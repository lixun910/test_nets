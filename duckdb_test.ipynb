{
 "cells": [
  {
   "cell_type": "markdown",
   "metadata": {},
   "source": [
    "### Test DuckDB using NETS datasets"
   ]
  },
  {
   "cell_type": "code",
   "execution_count": 2,
   "metadata": {},
   "outputs": [],
   "source": [
    "import duckdb\n",
    "\n",
    "# tes direct select from dataframe\n",
    "#duckdb.sql('SELECT * FROM df')\n",
    "\n",
    "# test direct select from parquet file\n",
    "# duckdb.query('SELECT * FROM parquet_scan(\\'./data/NETS2014_LatLongs.parquet\\')')\n",
    "\n",
    "# test direct select from txt (csv) file\n",
    "#duckdb.query('SELECT * FROM read_csv(\\'./data/NETS2014_LatLongs.txt\\', delim=\\'\\\\t\\', header=true, columns={\\'DunsNumber\\': \\'VARCHAR\\', \\'Latitude\\': \\'DOUBLE\\', \\'Longitude\\': \\'DOUBLE\\', \\'LevelCode\\': \\'VARCHAR\\'} )')\n",
    "\n",
    "#duckdb.query('SELECT * FROM read_csv_auto(\\'./data/NETS2014_Sales.txt\\')')"
   ]
  },
  {
   "cell_type": "markdown",
   "metadata": {},
   "source": [
    "#### Create a duckdb database\n",
    "\n",
    "NOTE: the performance of persistent database is worse than in-memory database. However, all tempory tables will be lost after the connection is closed when using in-memory db. So, I suggest to use persistent db for NETS data.\n",
    "\n"
   ]
  },
  {
   "cell_type": "code",
   "execution_count": 22,
   "metadata": {},
   "outputs": [],
   "source": [
    "# empty parameters means creating in-memory database\n",
    "# con = duckdb.connect()\n",
    "\n",
    "# you can also create a persistent database file\n",
    "con = duckdb.connect('./data/duckdb_test.db')\n"
   ]
  },
  {
   "cell_type": "markdown",
   "metadata": {},
   "source": [
    "#### Install and load spatial extension on this database\n"
   ]
  },
  {
   "cell_type": "code",
   "execution_count": 23,
   "metadata": {},
   "outputs": [],
   "source": [
    "con.install_extension('spatial')\n",
    "con.load_extension('spatial')"
   ]
  },
  {
   "cell_type": "code",
   "execution_count": 26,
   "metadata": {},
   "outputs": [
    {
     "data": {
      "text/plain": [
       "<duckdb.duckdb.DuckDBPyConnection at 0x1074807f0>"
      ]
     },
     "execution_count": 26,
     "metadata": {},
     "output_type": "execute_result"
    }
   ],
   "source": [
    "# Drop table nets2014_latlongs if exists\n",
    "con.execute('DROP TABLE IF EXISTS nets2014_latlongs')"
   ]
  },
  {
   "cell_type": "markdown",
   "metadata": {},
   "source": [
    "#### Create a table from 1.72 GB LatLongs.txt (2.2 seconds in-memory vs 4.9 seconds persistent)\n"
   ]
  },
  {
   "cell_type": "code",
   "execution_count": 27,
   "metadata": {},
   "outputs": [],
   "source": [
    "con.sql('CREATE TABLE nets2014_latlongs AS SELECT * FROM read_csv_auto(\\'./data/NETS2014_LatLongs.txt\\')')"
   ]
  },
  {
   "cell_type": "markdown",
   "metadata": {},
   "source": [
    "#### Check the table `nets2014_latlongs`"
   ]
  },
  {
   "cell_type": "code",
   "execution_count": 25,
   "metadata": {},
   "outputs": [
    {
     "data": {
      "text/plain": [
       "┌────────────┬──────────┬───────────┬───────────┬──────────────────────────┐\n",
       "│ DunsNumber │ Latitude │ Longitude │ LevelCode │           geom           │\n",
       "│  varchar   │  double  │  double   │  varchar  │         geometry         │\n",
       "├────────────┼──────────┼───────────┼───────────┼──────────────────────────┤\n",
       "│ 001000009  │  42.2973 │   71.2004 │ D         │ POINT (71.2004 42.2973)  │\n",
       "│ 001000012  │  21.3846 │  157.9372 │ Z         │ POINT (157.9372 21.3846) │\n",
       "│ 001000020  │  21.3846 │  157.9372 │ Z         │ POINT (157.9372 21.3846) │\n",
       "│ 001000038  │  36.0823 │   79.8976 │ D         │ POINT (79.8976 36.0823)  │\n",
       "│ 001000046  │  21.3094 │  157.8633 │ D         │ POINT (157.8633 21.3094) │\n",
       "│ 001000053  │  21.3364 │  157.9185 │ Z         │ POINT (157.9185 21.3364) │\n",
       "│ 001000061  │  21.3064 │  157.8602 │ Z         │ POINT (157.8602 21.3064) │\n",
       "│ 001000087  │  21.3116 │  157.8611 │ Z         │ POINT (157.8611 21.3116) │\n",
       "│ 001000095  │   41.401 │   79.8735 │ D         │ POINT (79.8735 41.401)   │\n",
       "│ 001000103  │  21.3064 │  157.8602 │ Z         │ POINT (157.8602 21.3064) │\n",
       "│     ·      │     ·    │      ·    │ ·         │            ·             │\n",
       "│     ·      │     ·    │      ·    │ ·         │            ·             │\n",
       "│     ·      │     ·    │      ·    │ ·         │            ·             │\n",
       "│ 001081439  │  44.2517 │   72.5712 │ D         │ POINT (72.5712 44.2517)  │\n",
       "│ 001081442  │  35.6597 │  105.9737 │ D         │ POINT (105.9737 35.6597) │\n",
       "│ 001081459  │  43.6117 │  116.5031 │ D         │ POINT (116.5031 43.6117) │\n",
       "│ 001081467  │  35.6893 │  105.9375 │ D         │ POINT (105.9375 35.6893) │\n",
       "│ 001081475  │  35.6754 │  105.9637 │ D         │ POINT (105.9637 35.6754) │\n",
       "│ 001081483  │  47.2803 │  122.3234 │ D         │ POINT (122.3234 47.2803) │\n",
       "│ 001081491  │  35.6881 │  105.9421 │ D         │ POINT (105.9421 35.6881) │\n",
       "│ 001081496  │  44.4583 │   71.1892 │ D         │ POINT (71.1892 44.4583)  │\n",
       "│ 001081504  │  40.2426 │    83.042 │ D         │ POINT (83.042 40.2426)   │\n",
       "│ 001081509  │  37.3337 │  120.6325 │ D         │ POINT (120.6325 37.3337) │\n",
       "├────────────┴──────────┴───────────┴───────────┴──────────────────────────┤\n",
       "│ ? rows (>9999 rows, 20 shown)                                  5 columns │\n",
       "└──────────────────────────────────────────────────────────────────────────┘"
      ]
     },
     "execution_count": 25,
     "metadata": {},
     "output_type": "execute_result"
    }
   ],
   "source": [
    "con.sql('SELECT * FROM nets2014_latlongs')"
   ]
  },
  {
   "cell_type": "markdown",
   "metadata": {},
   "source": [
    "### Add a geometry column using latitude and longitude"
   ]
  },
  {
   "cell_type": "code",
   "execution_count": 11,
   "metadata": {},
   "outputs": [
    {
     "data": {
      "text/plain": [
       "<duckdb.duckdb.DuckDBPyConnection at 0x10747a470>"
      ]
     },
     "execution_count": 11,
     "metadata": {},
     "output_type": "execute_result"
    }
   ],
   "source": [
    "con.execute('ALTER TABLE nets2014_latlongs ADD COLUMN geom geometry')"
   ]
  },
  {
   "cell_type": "markdown",
   "metadata": {},
   "source": [
    "#### Update the geom column use latitute and longitude columns (2.9 seconds in-memory / 16.1 second on disk)"
   ]
  },
  {
   "cell_type": "code",
   "execution_count": 12,
   "metadata": {},
   "outputs": [
    {
     "data": {
      "text/plain": [
       "<duckdb.duckdb.DuckDBPyConnection at 0x10747a470>"
      ]
     },
     "execution_count": 12,
     "metadata": {},
     "output_type": "execute_result"
    }
   ],
   "source": [
    "con.execute('UPDATE nets2014_latlongs SET geom = ST_Point(Longitude, Latitude)')"
   ]
  },
  {
   "cell_type": "markdown",
   "metadata": {},
   "source": [
    "#### Test spatial query using the geometry column"
   ]
  },
  {
   "cell_type": "code",
   "execution_count": 13,
   "metadata": {},
   "outputs": [
    {
     "data": {
      "text/plain": [
       "┌────────────┬──────────┬───────────┬───────────┬─────────────────────────┐\n",
       "│ DunsNumber │ Latitude │ Longitude │ LevelCode │          geom           │\n",
       "│  varchar   │  double  │  double   │  varchar  │        geometry         │\n",
       "├────────────┼──────────┼───────────┼───────────┼─────────────────────────┤\n",
       "│ 001000731  │  40.2207 │   74.8733 │ D         │ POINT (74.8733 40.2207) │\n",
       "│ 001000798  │  40.2178 │   74.8326 │ Z         │ POINT (74.8326 40.2178) │\n",
       "│ 001000822  │  39.9903 │   75.1344 │ D         │ POINT (75.1344 39.9903) │\n",
       "│ 001000863  │  40.0411 │   75.1445 │ D         │ POINT (75.1445 40.0411) │\n",
       "│ 001000921  │  39.9305 │   75.1628 │ D         │ POINT (75.1628 39.9305) │\n",
       "│ 001001010  │  40.0068 │   75.1585 │ D         │ POINT (75.1585 40.0068) │\n",
       "│ 001001135  │  39.9153 │   75.0625 │ Z         │ POINT (75.0625 39.9153) │\n",
       "│ 001001515  │  40.7774 │   73.2267 │ D         │ POINT (73.2267 40.7774) │\n",
       "│ 001001895  │  40.7526 │   74.1206 │ Z         │ POINT (74.1206 40.7526) │\n",
       "│ 001002273  │  40.7504 │   73.9741 │ D         │ POINT (73.9741 40.7504) │\n",
       "│     ·      │     ·    │      ·    │ ·         │            ·            │\n",
       "│     ·      │     ·    │      ·    │ ·         │            ·            │\n",
       "│     ·      │     ·    │      ·    │ ·         │            ·            │\n",
       "│ 001924658  │  40.6806 │   74.2467 │ D         │ POINT (74.2467 40.6806) │\n",
       "│ 001925028  │  40.7148 │   73.9921 │ D         │ POINT (73.9921 40.7148) │\n",
       "│ 001925127  │  40.7856 │     73.95 │ D         │ POINT (73.95 40.7856)   │\n",
       "│ 001925333  │  40.7731 │   72.9968 │ D         │ POINT (72.9968 40.7731) │\n",
       "│ 001925663  │  40.7782 │   73.9481 │ D         │ POINT (73.9481 40.7782) │\n",
       "│ 001925726  │  40.7511 │   73.9913 │ Z         │ POINT (73.9913 40.7511) │\n",
       "│ 001926075  │  40.7085 │   73.3808 │ D         │ POINT (73.3808 40.7085) │\n",
       "│ 001926224  │  40.7671 │   73.9865 │ D         │ POINT (73.9865 40.7671) │\n",
       "│ 001926265  │   40.746 │   74.0352 │ D         │ POINT (74.0352 40.746)  │\n",
       "│ 001926588  │  40.6291 │    73.929 │ D         │ POINT (73.929 40.6291)  │\n",
       "├────────────┴──────────┴───────────┴───────────┴─────────────────────────┤\n",
       "│ ? rows (>9999 rows, 20 shown)                                 5 columns │\n",
       "└─────────────────────────────────────────────────────────────────────────┘"
      ]
     },
     "execution_count": 13,
     "metadata": {},
     "output_type": "execute_result"
    }
   ],
   "source": [
    "# query the table using ST_WITHIN function\n",
    "con.sql('SELECT * FROM nets2014_latlongs WHERE ST_Within(geom, ST_GeomFromText(\\'POLYGON ((70.4 37.7, 75.5 37.7, 75.5 40.8, 70.4 40.8, 70.4 37.7))\\'))')"
   ]
  },
  {
   "cell_type": "markdown",
   "metadata": {},
   "source": [
    "Here we can't create table from raw txt file, since it will complain about \"could not convert string to double\", since there are many empty values in the raw txt files. So, we need to specify the column types for each column, and we can also ignore_errors=true, so that it will ignore the empty values."
   ]
  },
  {
   "cell_type": "code",
   "execution_count": 14,
   "metadata": {},
   "outputs": [],
   "source": [
    "# create an array using these values:\n",
    "# Sales90 SalesC90        Sales91 SalesC91        Sales92 SalesC92        Sales93 SalesC93        Sales94 SalesC94   Sales95 SalesC95        Sales96 SalesC96        Sales97 SalesC97        Sales98 SalesC98        Sales99 SalesC99  Sales00  SalesC00        Sales01 SalesC01        Sales02 SalesC02        Sales03 SalesC03        Sales04 SalesC04        Sales05    SalesC05        Sales06 SalesC06        Sales07 SalesC07        Sales08 SalesC08        Sales09 SalesC09        Sales10    SalesC10        Sales11 SalesC11        Sales12 SalesC12        Sales13 SalesC13        Sales14 SalesC14        SalesHere  SalesHereC      SalesGrowth     SalesGrowthPeer\n",
    "sales_columns = ['Sales90', 'SalesC90', 'Sales91', 'SalesC91', 'Sales92',\n",
    "       'SalesC92', 'Sales93', 'SalesC93', 'Sales94', 'SalesC94', 'Sales95',\n",
    "       'SalesC95', 'Sales96', 'SalesC96', 'Sales97', 'SalesC97', 'Sales98',\n",
    "       'SalesC98', 'Sales99', 'SalesC99', 'Sales00', 'SalesC00', 'Sales01',\n",
    "       'SalesC01', 'Sales02', 'SalesC02', 'Sales03', 'SalesC03', 'Sales04',\n",
    "       'SalesC04', 'Sales05', 'SalesC05', 'Sales06', 'SalesC06', 'Sales07',\n",
    "       'SalesC07', 'Sales08', 'SalesC08', 'Sales09', 'SalesC09', 'Sales10',\n",
    "       'SalesC10', 'Sales11', 'SalesC11', 'Sales12', 'SalesC12', 'Sales13',\n",
    "       'SalesC13', 'Sales14', 'SalesC14', 'SalesHere', 'SalesHereC',\n",
    "       'SalesGrowth', 'SalesGrowthPeer']\n",
    "columns_sql = ', '.join([\"'{}':'DOUBLE'\".format(x) for x in sales_columns])\n"
   ]
  },
  {
   "cell_type": "markdown",
   "metadata": {},
   "source": [
    "#### Create a table from 7.32 GB Sales.txt (37 seconds in-memory vs 1m 0.9s on disk)"
   ]
  },
  {
   "cell_type": "code",
   "execution_count": 15,
   "metadata": {},
   "outputs": [],
   "source": [
    "con.sql(\"CREATE TABLE nets2014_sales AS SELECT * FROM read_csv('./data/NETS2014_Sales.txt', delim='\\\\t', header=true, ignore_errors=true, columns={{'DunsNumber': 'VARCHAR', {}}})\".format(columns_sql))"
   ]
  },
  {
   "cell_type": "markdown",
   "metadata": {},
   "source": [
    "#### Check the table `nets2014_sales`"
   ]
  },
  {
   "cell_type": "code",
   "execution_count": 16,
   "metadata": {},
   "outputs": [
    {
     "data": {
      "text/plain": [
       "┌────────────┬──────────┬──────────┬──────────┬───┬──────────┬───────────┬────────────┬─────────────┬─────────────────┐\n",
       "│ DunsNumber │ Sales90  │ SalesC90 │ Sales91  │ … │ SalesC14 │ SalesHere │ SalesHereC │ SalesGrowth │ SalesGrowthPeer │\n",
       "│  varchar   │  double  │  double  │  double  │   │  double  │  double   │   double   │   double    │     double      │\n",
       "├────────────┼──────────┼──────────┼──────────┼───┼──────────┼───────────┼────────────┼─────────────┼─────────────────┤\n",
       "│ 001000009  │ 450000.0 │      0.0 │  46000.0 │ … │     NULL │  112700.0 │        3.0 │         1.0 │             1.0 │\n",
       "│ 001000012  │     NULL │     NULL │     NULL │ … │     NULL │  450000.0 │        3.0 │         2.0 │             2.0 │\n",
       "│ 001000020  │     NULL │     NULL │     NULL │ … │     NULL │   80000.0 │        3.0 │         4.0 │             4.0 │\n",
       "│ 001000038  │     NULL │     NULL │     NULL │ … │     NULL │  125000.0 │        0.0 │         2.0 │             2.0 │\n",
       "│ 001000046  │     NULL │     NULL │     NULL │ … │     NULL │   86700.0 │        3.0 │         2.0 │             2.0 │\n",
       "│ 001000053  │     NULL │     NULL │     NULL │ … │     NULL │  260000.0 │        3.0 │         2.0 │             2.0 │\n",
       "│ 001000061  │     NULL │     NULL │     NULL │ … │     NULL │  170000.0 │        3.0 │         4.0 │             4.0 │\n",
       "│ 001000087  │     NULL │     NULL │     NULL │ … │     NULL │  225000.0 │        3.0 │         2.0 │             2.0 │\n",
       "│ 001000095  │     NULL │     NULL │     NULL │ … │     NULL │  172800.0 │        3.0 │         4.0 │             4.0 │\n",
       "│ 001000103  │     NULL │     NULL │     NULL │ … │     NULL │  150000.0 │        3.0 │         4.0 │             4.0 │\n",
       "│     ·      │       ·  │       ·  │       ·  │ · │       ·  │      ·    │         ·  │          ·  │              ·  │\n",
       "│     ·      │       ·  │       ·  │       ·  │ · │       ·  │      ·    │         ·  │          ·  │              ·  │\n",
       "│     ·      │       ·  │       ·  │       ·  │ · │       ·  │      ·    │         ·  │          ·  │              ·  │\n",
       "│ 001081439  │ 650000.0 │      0.0 │ 700000.0 │ … │      2.0 │  190000.0 │        2.0 │         2.0 │             2.0 │\n",
       "│ 001081442  │     NULL │     NULL │     NULL │ … │      0.0 │  500000.0 │        0.0 │         2.0 │             2.0 │\n",
       "│ 001081459  │     NULL │     NULL │     NULL │ … │      3.0 │  160000.0 │        3.0 │         2.0 │             2.0 │\n",
       "│ 001081467  │     NULL │     NULL │     NULL │ … │     NULL │  180500.0 │        3.0 │         4.0 │             4.0 │\n",
       "│ 001081475  │     NULL │     NULL │     NULL │ … │      3.0 │  583300.0 │        3.0 │         2.0 │             2.0 │\n",
       "│ 001081483  │     NULL │     NULL │     NULL │ … │     NULL │      NULL │       NULL │        NULL │            NULL │\n",
       "│ 001081491  │     NULL │     NULL │     NULL │ … │     NULL │  300000.0 │        3.0 │         2.0 │             2.0 │\n",
       "│ 001081496  │ 286900.0 │      3.0 │ 300000.0 │ … │      2.0 │  260000.0 │        2.0 │         1.0 │             1.0 │\n",
       "│ 001081504  │ 106000.0 │      0.0 │ 150000.0 │ … │      2.0 │  260000.0 │        2.0 │         2.0 │             1.0 │\n",
       "│ 001081509  │ 154300.0 │      3.0 │ 157100.0 │ … │      3.0 │  128000.0 │        3.0 │         2.0 │             2.0 │\n",
       "├────────────┴──────────┴──────────┴──────────┴───┴──────────┴───────────┴────────────┴─────────────┴─────────────────┤\n",
       "│ ? rows (>9999 rows, 20 shown)                                                                  55 columns (9 shown) │\n",
       "└─────────────────────────────────────────────────────────────────────────────────────────────────────────────────────┘"
      ]
     },
     "execution_count": 16,
     "metadata": {},
     "output_type": "execute_result"
    }
   ],
   "source": [
    "con.sql('SELECT * FROM nets2014_sales')"
   ]
  },
  {
   "cell_type": "markdown",
   "metadata": {},
   "source": [
    "#### Join the two tables using `DunsNumber` "
   ]
  },
  {
   "cell_type": "code",
   "execution_count": 17,
   "metadata": {},
   "outputs": [
    {
     "data": {
      "text/plain": [
       "┌────────────┬──────────┬───────────┬───────────┬───┬────────────┬────────────┬─────────────┬─────────────────┐\n",
       "│ DunsNumber │ Latitude │ Longitude │ LevelCode │ … │ SalesHere  │ SalesHereC │ SalesGrowth │ SalesGrowthPeer │\n",
       "│  varchar   │  double  │  double   │  varchar  │   │   double   │   double   │   double    │     double      │\n",
       "├────────────┼──────────┼───────────┼───────────┼───┼────────────┼────────────┼─────────────┼─────────────────┤\n",
       "│ 003581829  │  35.1684 │    89.791 │ D         │ … │   257100.0 │        3.0 │         4.0 │             4.0 │\n",
       "│ 003581837  │   40.975 │   90.3602 │ D         │ … │  4682900.0 │        3.0 │         4.0 │             4.0 │\n",
       "│ 003581838  │   28.583 │   81.2944 │ D         │ … │    50000.0 │        3.0 │         2.0 │             2.0 │\n",
       "│ 003581839  │  45.4491 │   91.7859 │ D         │ … │   186000.0 │        3.0 │         2.0 │             2.0 │\n",
       "│ 003581840  │  33.6843 │  117.8853 │ D         │ … │    81300.0 │        3.0 │         2.0 │             2.0 │\n",
       "│ 003581854  │  38.6515 │   90.3432 │ D         │ … │       NULL │       NULL │        NULL │            NULL │\n",
       "│ 003581855  │  28.1305 │   80.6284 │ D         │ … │    40000.0 │        3.0 │         2.0 │             2.0 │\n",
       "│ 003581857  │  33.7742 │   117.899 │ D         │ … │    55800.0 │        3.0 │         1.0 │             1.0 │\n",
       "│ 003581859  │  47.7116 │   117.458 │ D         │ … │    90000.0 │        3.0 │         4.0 │             4.0 │\n",
       "│ 003581863  │  36.8664 │   76.0269 │ Z         │ … │   124000.0 │        3.0 │         2.0 │             2.0 │\n",
       "│     ·      │     ·    │      ·    │ ·         │ · │       ·    │         ·  │          ·  │              ·  │\n",
       "│     ·      │     ·    │      ·    │ ·         │ · │       ·    │         ·  │          ·  │              ·  │\n",
       "│     ·      │     ·    │      ·    │ ·         │ · │       ·    │         ·  │          ·  │              ·  │\n",
       "│ 002391877  │  35.0504 │   89.8139 │ D         │ … │   100000.0 │        3.0 │         2.0 │             2.0 │\n",
       "│ 002391881  │   32.841 │  117.2725 │ D         │ … │   196100.0 │        3.0 │         2.0 │             4.0 │\n",
       "│ 002391883  │  39.5838 │  104.8826 │ D         │ … │   186700.0 │        3.0 │         2.0 │             2.0 │\n",
       "│ 002391884  │  39.3013 │   76.5769 │ D         │ … │    62000.0 │        3.0 │         2.0 │             2.0 │\n",
       "│ 002391885  │  25.8242 │    80.336 │ D         │ … │   400000.0 │        3.0 │         2.0 │             2.0 │\n",
       "│ 002391886  │  46.6551 │   67.8643 │ D         │ … │   144134.0 │        0.0 │         2.0 │             2.0 │\n",
       "│ 002391890  │  37.9277 │  121.6837 │ D         │ … │    40000.0 │        3.0 │         2.0 │             2.0 │\n",
       "│ 002391896  │  37.4305 │   77.6484 │ Z         │ … │   124000.0 │        3.0 │         2.0 │             2.0 │\n",
       "│ 002391899  │  34.2101 │  118.4346 │ D         │ … │   466700.0 │        3.0 │         2.0 │             2.0 │\n",
       "│ 002391900  │  34.5653 │  112.4832 │ T         │ … │ 12000000.0 │        3.0 │         1.0 │             1.0 │\n",
       "├────────────┴──────────┴───────────┴───────────┴───┴────────────┴────────────┴─────────────┴─────────────────┤\n",
       "│ ? rows (>9999 rows, 20 shown)                                                          60 columns (8 shown) │\n",
       "└─────────────────────────────────────────────────────────────────────────────────────────────────────────────┘"
      ]
     },
     "execution_count": 17,
     "metadata": {},
     "output_type": "execute_result"
    }
   ],
   "source": [
    "# create a new table by joining the two table using DunsNumber as key (20s in-memory vs 10s persistent)\n",
    "con.sql('SELECT * FROM nets2014_latlongs JOIN nets2014_sales ON nets2014_latlongs.DunsNumber = nets2014_sales.DunsNumber')"
   ]
  },
  {
   "cell_type": "code",
   "execution_count": 19,
   "metadata": {},
   "outputs": [],
   "source": [
    "# Create a index on the DunsNumber column\n",
    "#con.execute('DROP INDEX idx_dunsnumber');\n",
    "con.sql('CREATE UNIQUE INDEX idx_dunsnumber ON nets2014_latlongs(DunsNumber)')\n",
    "#con.execute('DROP INDEX idx_dunsnumber_sales');\n",
    "con.sql('CREATE UNIQUE INDEX idx_dunsnumber_sales ON nets2014_sales(DunsNumber)')"
   ]
  },
  {
   "cell_type": "code",
   "execution_count": 20,
   "metadata": {},
   "outputs": [
    {
     "data": {
      "text/plain": [
       "┌────────────┬──────────┬───────────┬───────────┬───┬────────────┬────────────┬─────────────┬─────────────────┐\n",
       "│ DunsNumber │ Latitude │ Longitude │ LevelCode │ … │ SalesHere  │ SalesHereC │ SalesGrowth │ SalesGrowthPeer │\n",
       "│  varchar   │  double  │  double   │  varchar  │   │   double   │   double   │   double    │     double      │\n",
       "├────────────┼──────────┼───────────┼───────────┼───┼────────────┼────────────┼─────────────┼─────────────────┤\n",
       "│ 001000009  │  42.2973 │   71.2004 │ D         │ … │   112700.0 │        3.0 │         1.0 │             1.0 │\n",
       "│ 001000012  │  21.3846 │  157.9372 │ Z         │ … │   450000.0 │        3.0 │         2.0 │             2.0 │\n",
       "│ 001000020  │  21.3846 │  157.9372 │ Z         │ … │    80000.0 │        3.0 │         4.0 │             4.0 │\n",
       "│ 001000038  │  36.0823 │   79.8976 │ D         │ … │   125000.0 │        0.0 │         2.0 │             2.0 │\n",
       "│ 001000046  │  21.3094 │  157.8633 │ D         │ … │    86700.0 │        3.0 │         2.0 │             2.0 │\n",
       "│ 001000053  │  21.3364 │  157.9185 │ Z         │ … │   260000.0 │        3.0 │         2.0 │             2.0 │\n",
       "│ 001000061  │  21.3064 │  157.8602 │ Z         │ … │   170000.0 │        3.0 │         4.0 │             4.0 │\n",
       "│ 001000087  │  21.3116 │  157.8611 │ Z         │ … │   225000.0 │        3.0 │         2.0 │             2.0 │\n",
       "│ 001000095  │   41.401 │   79.8735 │ D         │ … │   172800.0 │        3.0 │         4.0 │             4.0 │\n",
       "│ 001000103  │  21.3064 │  157.8602 │ Z         │ … │   150000.0 │        3.0 │         4.0 │             4.0 │\n",
       "│     ·      │     ·    │      ·    │ ·         │ · │       ·    │         ·  │          ·  │              ·  │\n",
       "│     ·      │     ·    │      ·    │ ·         │ · │       ·    │         ·  │          ·  │              ·  │\n",
       "│     ·      │     ·    │      ·    │ ·         │ · │       ·    │         ·  │          ·  │              ·  │\n",
       "│ 002391875  │  32.9056 │   96.7683 │ D         │ … │   110000.0 │        3.0 │         2.0 │             2.0 │\n",
       "│ 002391877  │  35.0504 │   89.8139 │ D         │ … │   100000.0 │        3.0 │         2.0 │             2.0 │\n",
       "│ 002391881  │   32.841 │  117.2725 │ D         │ … │   196100.0 │        3.0 │         2.0 │             4.0 │\n",
       "│ 002391884  │  39.3013 │   76.5769 │ D         │ … │    62000.0 │        3.0 │         2.0 │             2.0 │\n",
       "│ 002391885  │  25.8242 │    80.336 │ D         │ … │   400000.0 │        3.0 │         2.0 │             2.0 │\n",
       "│ 002391889  │  37.2295 │     93.29 │ D         │ … │    33300.0 │        3.0 │         2.0 │             2.0 │\n",
       "│ 002391890  │  37.9277 │  121.6837 │ D         │ … │    40000.0 │        3.0 │         2.0 │             2.0 │\n",
       "│ 002391896  │  37.4305 │   77.6484 │ Z         │ … │   124000.0 │        3.0 │         2.0 │             2.0 │\n",
       "│ 002391899  │  34.2101 │  118.4346 │ D         │ … │   466700.0 │        3.0 │         2.0 │             2.0 │\n",
       "│ 002391900  │  34.5653 │  112.4832 │ T         │ … │ 12000000.0 │        3.0 │         1.0 │             1.0 │\n",
       "├────────────┴──────────┴───────────┴───────────┴───┴────────────┴────────────┴─────────────┴─────────────────┤\n",
       "│ ? rows (>9999 rows, 20 shown)                                                          60 columns (8 shown) │\n",
       "└─────────────────────────────────────────────────────────────────────────────────────────────────────────────┘"
      ]
     },
     "execution_count": 20,
     "metadata": {},
     "output_type": "execute_result"
    }
   ],
   "source": [
    "# Try join again\n",
    "con.sql('SELECT * FROM nets2014_latlongs JOIN nets2014_sales ON nets2014_latlongs.DunsNumber = nets2014_sales.DunsNumber')"
   ]
  },
  {
   "cell_type": "markdown",
   "metadata": {},
   "source": [
    "NOTE: the join is very slow, and adding index seems not improving. Since it will create a temporary table, and the temporary table is very large. So it's better to create a new table from the join result."
   ]
  },
  {
   "cell_type": "code",
   "execution_count": 21,
   "metadata": {},
   "outputs": [],
   "source": [
    "con.sql('CREATE TABLE latlon_sale AS SELECT * FROM nets2014_latlongs JOIN nets2014_sales ON nets2014_latlongs.DunsNumber = nets2014_sales.DunsNumber')"
   ]
  },
  {
   "cell_type": "code",
   "execution_count": 64,
   "metadata": {},
   "outputs": [
    {
     "data": {
      "text/plain": [
       "┌────────────┬──────────┬───────────┬───────────┬───┬────────────┬────────────┬─────────────┬─────────────────┐\n",
       "│ DunsNumber │ Latitude │ Longitude │ LevelCode │ … │ SalesHere  │ SalesHereC │ SalesGrowth │ SalesGrowthPeer │\n",
       "│  varchar   │  double  │  double   │  varchar  │   │   double   │   double   │   double    │     double      │\n",
       "├────────────┼──────────┼───────────┼───────────┼───┼────────────┼────────────┼─────────────┼─────────────────┤\n",
       "│ 004340027  │   35.923 │   80.2098 │ D         │ … │    70000.0 │        3.0 │         2.0 │             2.0 │\n",
       "│ 004340031  │  36.0744 │  115.1947 │ D         │ … │   105000.0 │        3.0 │         2.0 │             2.0 │\n",
       "│ 004340033  │  33.5296 │  112.2497 │ Z         │ … │    65000.0 │        3.0 │         2.0 │             2.0 │\n",
       "│ 004340036  │  41.8606 │    88.297 │ D         │ … │    66700.0 │        3.0 │         2.0 │             2.0 │\n",
       "│ 004340037  │  34.1223 │    80.873 │ D         │ … │   100000.0 │        3.0 │         2.0 │             2.0 │\n",
       "│ 004340040  │  40.1197 │   82.1165 │ D         │ … │   150000.0 │        3.0 │         2.0 │             2.0 │\n",
       "│ 004340043  │  40.2365 │  104.8206 │ D         │ … │   600000.0 │        3.0 │         2.0 │             2.0 │\n",
       "│ 004340044  │  32.8467 │   80.2394 │ D         │ … │   124000.0 │        3.0 │         2.0 │             2.0 │\n",
       "│ 004340045  │   37.406 │   94.7136 │ D         │ … │    83300.0 │        3.0 │         1.0 │             1.0 │\n",
       "│ 004340050  │  33.2352 │   92.6652 │ D         │ … │ 10267000.0 │        0.0 │         1.0 │             1.0 │\n",
       "│     ·      │     ·    │      ·    │ ·         │ · │       ·    │         ·  │          ·  │              ·  │\n",
       "│     ·      │     ·    │      ·    │ ·         │ · │       ·    │         ·  │          ·  │              ·  │\n",
       "│     ·      │     ·    │      ·    │ ·         │ · │       ·    │         ·  │          ·  │              ·  │\n",
       "│ 004360796  │  33.8858 │   84.4628 │ D         │ … │   158100.0 │        3.0 │         4.0 │             2.0 │\n",
       "│ 004360840  │  39.9068 │   86.0312 │ D         │ … │   480000.0 │        3.0 │         4.0 │             4.0 │\n",
       "│ 004360843  │  39.0289 │   77.1389 │ D         │ … │    86700.0 │        3.0 │         2.0 │             2.0 │\n",
       "│ 004360846  │  37.4047 │  122.0966 │ D         │ … │    73300.0 │        3.0 │         2.0 │             2.0 │\n",
       "│ 004360858  │  41.8067 │   87.6605 │ Z         │ … │   124000.0 │        3.0 │         2.0 │             2.0 │\n",
       "│ 004360867  │  25.7561 │   80.2555 │ D         │ … │    60000.0 │        3.0 │         2.0 │             2.0 │\n",
       "│ 004360878  │  42.1091 │   72.4744 │ D         │ … │   124000.0 │        3.0 │         2.0 │             2.0 │\n",
       "│ 004360892  │  38.7847 │   76.9094 │ D         │ … │    75000.0 │        3.0 │         2.0 │             2.0 │\n",
       "│ 004360895  │   40.653 │   74.1968 │ D         │ … │   150000.0 │        3.0 │         2.0 │             2.0 │\n",
       "│ 004360948  │  45.4527 │   67.7106 │ Z         │ … │   124000.0 │        3.0 │         2.0 │             2.0 │\n",
       "├────────────┴──────────┴───────────┴───────────┴───┴────────────┴────────────┴─────────────┴─────────────────┤\n",
       "│ ? rows (>9999 rows, 20 shown)                                                          60 columns (8 shown) │\n",
       "└─────────────────────────────────────────────────────────────────────────────────────────────────────────────┘"
      ]
     },
     "execution_count": 64,
     "metadata": {},
     "output_type": "execute_result"
    }
   ],
   "source": [
    "# reuse the joined table\n",
    "con.sql('SELECT * FROM latlon_sales')"
   ]
  },
  {
   "cell_type": "code",
   "execution_count": 63,
   "metadata": {},
   "outputs": [
    {
     "data": {
      "text/plain": [
       "┌─────────┬──────────────────────┬───────────────────┬──────────┬──────────────────────────────────────────────────────┐\n",
       "│  type   │         name         │     tbl_name      │ rootpage │                         sql                          │\n",
       "│ varchar │       varchar        │      varchar      │  int32   │                       varchar                        │\n",
       "├─────────┼──────────────────────┼───────────────────┼──────────┼──────────────────────────────────────────────────────┤\n",
       "│ table   │ latlon_sales         │ latlon_sales      │        0 │ CREATE TABLE latlon_sales(DunsNumber VARCHAR, Lati…  │\n",
       "│ table   │ nets2014_latlongs    │ nets2014_latlongs │        0 │ CREATE TABLE nets2014_latlongs(DunsNumber VARCHAR,…  │\n",
       "│ table   │ nets2014_sales       │ nets2014_sales    │        0 │ CREATE TABLE nets2014_sales(DunsNumber VARCHAR, Sa…  │\n",
       "│ index   │ idx_dunsnumber_sales │ nets2014_sales    │        0 │ CREATE UNIQUE INDEX idx_dunsnumber_sales ON nets20…  │\n",
       "│ index   │ idx_dunsnumber       │ nets2014_latlongs │        0 │ CREATE UNIQUE INDEX idx_dunsnumber ON nets2014_lat…  │\n",
       "└─────────┴──────────────────────┴───────────────────┴──────────┴──────────────────────────────────────────────────────┘"
      ]
     },
     "execution_count": 63,
     "metadata": {},
     "output_type": "execute_result"
    }
   ],
   "source": [
    "# list all tables\n",
    "con.sql('SELECT * FROM sqlite_master')"
   ]
  },
  {
   "cell_type": "code",
   "execution_count": null,
   "metadata": {},
   "outputs": [],
   "source": []
  }
 ],
 "metadata": {
  "kernelspec": {
   "display_name": ".venv",
   "language": "python",
   "name": "python3"
  },
  "language_info": {
   "codemirror_mode": {
    "name": "ipython",
    "version": 3
   },
   "file_extension": ".py",
   "mimetype": "text/x-python",
   "name": "python",
   "nbconvert_exporter": "python",
   "pygments_lexer": "ipython3",
   "version": "3.10.12"
  }
 },
 "nbformat": 4,
 "nbformat_minor": 2
}
